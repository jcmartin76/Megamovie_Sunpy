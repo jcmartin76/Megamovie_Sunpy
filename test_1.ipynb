{
 "cells": [
  {
   "cell_type": "markdown",
   "metadata": {},
   "source": [
    "# Processing your Eclipse Photo with SunPy"
   ]
  },
  {
   "cell_type": "markdown",
   "metadata": {},
   "source": [
    "Requirements\n",
    "* Python 3\n",
    "* matplotlib\n",
    "* scipy\n",
    "* sunpy >= 0.8\n",
    "* skimage\n",
    "* exifread\n",
    "* astropy"
   ]
  },
  {
   "cell_type": "code",
   "execution_count": null,
   "metadata": {
    "collapsed": true
   },
   "outputs": [],
   "source": [
    "from datetime import datetime\n",
    "\n",
    "import numpy as np\n",
    "import matplotlib\n",
    "import matplotlib.pyplot as plt\n",
    "from matplotlib.patches import Circle\n",
    "\n",
    "import scipy.ndimage as ndimage\n",
    "import skimage\n",
    "from skimage.transform import hough_circle, hough_circle_peaks\n",
    "\n",
    "import astropy.wcs\n",
    "from astropy.coordinates import EarthLocation, SkyCoord\n",
    "import astropy.units as u\n",
    "\n",
    "import sunpy\n",
    "import sunpy.map\n",
    "import sunpy.coordinates\n",
    "\n",
    "import exifread # to read information from the image\n",
    "\n",
    "import rawpy\n",
    "\n",
    "%matplotlib inline\n",
    "%config InlineBackend.figure_format = 'svg'"
   ]
  },
  {
   "cell_type": "code",
   "execution_count": null,
   "metadata": {
    "collapsed": true
   },
   "outputs": [],
   "source": [
    "sunpy.system_info()"
   ]
  },
  {
   "cell_type": "markdown",
   "metadata": {},
   "source": [
    "Replace the following with your photo filename. Here we are using an eclipse photo originally taken by Henke Bril taken in Salloum, Egypt on March 29, 2006. We've hacked the EXIF info to make it seem like it was taken for this eclipse. We will update this with a real 2017 Eclipse photo as soon as we have one!"
   ]
  },
  {
   "cell_type": "code",
   "execution_count": null,
   "metadata": {
    "collapsed": true
   },
   "outputs": [],
   "source": [
    "#f = '../sample-photos/total_solar_eclipse2017.jpg'\n",
    "\n",
    "f = '../Camera_raw/DSC_0076.NEF'  #JCMO image\n",
    "#f = '../Van/IMG_1382.CR2'  #Van image\n",
    "\n",
    "#f='/Users/oliveros/Dropbox/Occultation/Braxton_Collier/Eclipse Photos/IMG_2172.JPG'"
   ]
  },
  {
   "cell_type": "markdown",
   "metadata": {},
   "source": [
    "## First let's try to get some metadata from the file"
   ]
  },
  {
   "cell_type": "code",
   "execution_count": null,
   "metadata": {
    "collapsed": true
   },
   "outputs": [],
   "source": [
    "tags = exifread.process_file(open(f, 'rb'))\n",
    "\n",
    "tags"
   ]
  },
  {
   "cell_type": "code",
   "execution_count": null,
   "metadata": {
    "collapsed": true
   },
   "outputs": [],
   "source": [
    "# the following functions will help us get GPS data from the EXIF data if it exists\n",
    "def _convert_to_degress(value):\n",
    "    \"\"\"\n",
    "    Helper function to convert the GPS coordinates stored in the EXIF to degress in float format\n",
    "    :param value:\n",
    "    :type value: exifread.utils.Ratio\n",
    "    :rtype: float\n",
    "    \"\"\"\n",
    "    d = float(value.values[0].num) / float(value.values[0].den)\n",
    "    m = float(value.values[1].num) / float(value.values[1].den)\n",
    "    s = float(value.values[2].num) / float(value.values[2].den)\n",
    "\n",
    "    return d + (m / 60.0) + (s / 3600.0)\n",
    "    \n",
    "def get_exif_location(exif_data):\n",
    "    \"\"\"\n",
    "    Returns the latitude and longitude, if available, from the provided exif_data (obtained through get_exif_data above)\n",
    "    \"\"\"\n",
    "    lat = None\n",
    "    lon = None\n",
    "\n",
    "    gps_latitude = exif_data.get('GPS GPSLatitude', None)\n",
    "    gps_latitude_ref = exif_data.get('GPS GPSLatitudeRef', None)\n",
    "    gps_longitude = exif_data.get('GPS GPSLongitude', None)\n",
    "    gps_longitude_ref = exif_data.get('GPS GPSLongitudeRef', None)\n",
    "\n",
    "    if gps_latitude and gps_latitude_ref and gps_longitude and gps_longitude_ref:\n",
    "        lat = _convert_to_degress(gps_latitude)\n",
    "        if gps_latitude_ref.values[0] != 'N':\n",
    "            lat = 0 - lat\n",
    "\n",
    "        lon = _convert_to_degress(gps_longitude)\n",
    "        if gps_longitude_ref.values[0] != 'E':\n",
    "            lon = 0 - lon\n",
    "\n",
    "    return lat, lon"
   ]
  },
  {
   "cell_type": "code",
   "execution_count": null,
   "metadata": {
    "collapsed": true
   },
   "outputs": [],
   "source": [
    "if \"EXIF ExposureTime\" in tags:\n",
    "    exposure_tag = tags['EXIF ExposureTime']\n",
    "    exposure_time = exposure_tag.values[0].num / exposure_tag.values[0].den * u.s\n",
    "    print(\"Exposure time of {0} found!\".format(exposure_time))\n",
    "if \"Image Artist\" in tags:\n",
    "    author_str = tags['Image Artist'].values\n",
    "    print(\"Author name of {0} found!\".format(author_str))\n",
    "else:\n",
    "#    author_str = 'JC Martinez Oliveros' \n",
    "    author_str = 'Braxton Collier' \n",
    "    print(\"Author name of {0} found!\".format(author_str))\n",
    "    \n",
    "if \"EXIF DateTimeOriginal\" in tags:\n",
    "    datetime_str = tags['EXIF DateTimeOriginal'].values.replace(' ', ':').split(':')\n",
    "    time = datetime(int(datetime_str[0]), int(datetime_str[1]), \n",
    "                    int(datetime_str[2]), int(datetime_str[3]),\n",
    "                    int(datetime_str[4]), int(datetime_str[5]))\n",
    "    print(\"Image time of {0} found!\".format(str(time)))\n",
    "if \"Image Model\" in tags:\n",
    "    camera_model_str = tags['Image Model'].values\n",
    "    print(\"Camera model of {0} found!\".format(camera_model_str))\n",
    "lat, lon = get_exif_location(tags)\n",
    "\n",
    "print(lat,lon)\n",
    "\n",
    "if ((lat != None) and (lon != None)):\n",
    "    gps = [lat, lon] * u.deg\n",
    "    print(\"Found GPS location of {0}, {1} found!\".format(gps[0], gps[1]))\n",
    "else:\n",
    "    #This is by hand for JCMO!\n",
    "    lat = 44.892984\n",
    "    lon = -123.020692\n",
    "    gps = [lat, lon] * u.deg\n",
    "    print(\"Using JCMO GPS default location of {0}, {1} found!\".format(gps[0], gps[1]))    "
   ]
  },
  {
   "cell_type": "markdown",
   "metadata": {},
   "source": [
    "The following variables need to be defined. If they were not found in the EXIF data please define them below"
   ]
  },
  {
   "cell_type": "code",
   "execution_count": null,
   "metadata": {
    "collapsed": true
   },
   "outputs": [],
   "source": [
    "# exposure_time = 0.1 * u.s\n",
    "# camera_model_str = 'Canon 70D'\n",
    "# author_str = 'Julius Berkowski'\n",
    "\n",
    "#for Braxton Images!\n",
    "from datetime import timedelta\n",
    "#d = timedelta(hours=5)\n",
    "d = timedelta(hours=0)\n",
    "\n",
    "time = time + d\n",
    "print(str(time))\n",
    "time = time #datetime(2017, 8, 21, 17, 27, 13) # don't forget to convert your time to UTC!\n",
    "#gps = [44.37197, -116.87393] * u.deg # latitude, longitude of Mann Creek, Idaho"
   ]
  },
  {
   "cell_type": "markdown",
   "metadata": {},
   "source": [
    "## Read in the image data"
   ]
  },
  {
   "cell_type": "code",
   "execution_count": null,
   "metadata": {
    "collapsed": true
   },
   "outputs": [],
   "source": [
    "# read in the image and flip it so that it's correct\n",
    "#im_rgb = np.flipud(matplotlib.image.imread(f))\n",
    "\n",
    "raw = rawpy.imread(f)\n",
    "im_rgb = np.flipud(raw.postprocess())\n",
    "\n",
    "# remove color info\n",
    "im = np.average(im_rgb, axis=2)"
   ]
  },
  {
   "cell_type": "code",
   "execution_count": null,
   "metadata": {
    "collapsed": true
   },
   "outputs": [],
   "source": [
    "plt.imshow(im, origin='lower')"
   ]
  },
  {
   "cell_type": "markdown",
   "metadata": {},
   "source": [
    "# Get info from the image"
   ]
  },
  {
   "cell_type": "markdown",
   "metadata": {},
   "source": [
    "We need the following information from the image\n",
    "* the location of the center of the Sun/Moon and \n",
    "* the scale of the picture which we get from the size of the Sun/Moon in pixels"
   ]
  },
  {
   "cell_type": "code",
   "execution_count": null,
   "metadata": {
    "collapsed": true
   },
   "outputs": [],
   "source": [
    "blur_im = ndimage.gaussian_filter(im, 8)\n",
    "mask = blur_im > blur_im.mean() * 3\n",
    "plt.imshow(mask)"
   ]
  },
  {
   "cell_type": "code",
   "execution_count": null,
   "metadata": {
    "collapsed": true
   },
   "outputs": [],
   "source": [
    "label_im, nb_labels = ndimage.label(mask)\n",
    "plt.imshow(label_im)"
   ]
  },
  {
   "cell_type": "code",
   "execution_count": null,
   "metadata": {
    "collapsed": true
   },
   "outputs": [],
   "source": [
    "slice_x, slice_y = ndimage.find_objects(label_im==1)[0]\n",
    "roi = blur_im[slice_x, slice_y]\n",
    "plt.imshow(roi)"
   ]
  },
  {
   "cell_type": "code",
   "execution_count": null,
   "metadata": {
    "collapsed": true
   },
   "outputs": [],
   "source": [
    "sx = ndimage.sobel(roi, axis=0, mode='constant')\n",
    "sy = ndimage.sobel(roi, axis=1, mode='constant')\n",
    "sob = np.hypot(sx, sy)\n",
    "plt.imshow(sob > (sob.mean() * 5))"
   ]
  },
  {
   "cell_type": "code",
   "execution_count": null,
   "metadata": {
    "collapsed": true
   },
   "outputs": [],
   "source": [
    "from skimage.transform import hough_circle, hough_circle_peaks\n",
    "\n",
    "hough_radii = np.arange(np.floor(np.mean(sob.shape)/4), np.ceil(np.mean(sob.shape)/2), 10)\n",
    "hough_res = hough_circle(sob > (sob.mean() * 5), hough_radii)\n",
    "\n",
    "# Select the most prominent circle\n",
    "accums, cy, cx, radii = hough_circle_peaks(hough_res, hough_radii, total_num_peaks=1)\n",
    "print(cx, cy, radii)"
   ]
  },
  {
   "cell_type": "code",
   "execution_count": null,
   "metadata": {
    "collapsed": true
   },
   "outputs": [],
   "source": [
    "fig, ax = plt.subplots(ncols=1, nrows=1, figsize=(10, 4))\n",
    "circ = Circle([cy, cx], radius=radii, facecolor='none', edgecolor='red', linewidth=2)\n",
    "ax.imshow(sob)\n",
    "ax.add_patch(circ)\n",
    "plt.show()"
   ]
  },
  {
   "cell_type": "code",
   "execution_count": null,
   "metadata": {
    "collapsed": true
   },
   "outputs": [],
   "source": [
    "fig, ax = plt.subplots(ncols=3, nrows=1, figsize=(9.5, 6))\n",
    "ax[0].imshow(im[slice_x, slice_y])\n",
    "ax[0].set_title('Original')\n",
    "ax[1].imshow(sob > (sob.mean() * 5))\n",
    "ax[1].set_title('Derivative')\n",
    "circ = Circle([cy, cx], radius=radii, facecolor='none', edgecolor='red', linewidth=2, label='Hough fit')\n",
    "ax[2].imshow(im[slice_x, slice_y])\n",
    "ax[2].add_patch(circ)\n",
    "ax[2].set_title('Original with fit')\n",
    "plt.legend()"
   ]
  },
  {
   "cell_type": "markdown",
   "metadata": {},
   "source": [
    "Now let's check it with the original image"
   ]
  },
  {
   "cell_type": "code",
   "execution_count": null,
   "metadata": {
    "collapsed": true
   },
   "outputs": [],
   "source": [
    "fig, ax = plt.subplots(ncols=1, nrows=1, figsize=(10, 4))\n",
    "fudge_shift_x = 0 * u.pix # update this in case the fit needs to be shifted in x\n",
    "fudget_shift_y = 0 * u.pix # update this in case the fit needs to be shifted in y\n",
    "im_cx = (cx + slice_x.start) * u.pix + fudge_shift_x\n",
    "im_cy = (cy + slice_y.start) * u.pix + fudget_shift_y\n",
    "im_radius = radii * u.pix\n",
    "circ = Circle([im_cy.value, im_cx.value], radius=im_radius.value, facecolor='none', edgecolor='red', linewidth=2)\n",
    "ax.imshow(im,vmax=70)\n",
    "ax.add_patch(circ)\n",
    "plt.show()"
   ]
  },
  {
   "cell_type": "code",
   "execution_count": null,
   "metadata": {
    "collapsed": true
   },
   "outputs": [],
   "source": [
    "im.shape"
   ]
  },
  {
   "cell_type": "markdown",
   "metadata": {},
   "source": [
    "Prueba de volver para recentrar la imagen\n",
    "\n",
    "Ideas:\n",
    "nim_xcen,nim_ycen == im_cx,im_cy\n",
    "\n",
    "nim_cx = im_cx + (nim_xcen - im_cx)\n",
    "nim_cy = im_cy + (nim_ycen - im_cy)\n",
    "\n",
    "In [1]: import numpy as np\n",
    "\n",
    "In [2]: a = np.zeros(100).reshape(10,10)\n",
    "\n",
    "In [3]: b = np.ones(4).reshape(2,2)\n",
    "\n",
    "In [4]: a[4:6, 4:6] = b\n",
    "\n",
    "In [5]: a\n",
    "Out[5]: \n",
    "array([[ 0.,  0.,  0.,  0.,  0.,  0.,  0.,  0.,  0.,  0.],\n",
    "       [ 0.,  0.,  0.,  0.,  0.,  0.,  0.,  0.,  0.,  0.],\n",
    "       [ 0.,  0.,  0.,  0.,  0.,  0.,  0.,  0.,  0.,  0.],\n",
    "       [ 0.,  0.,  0.,  0.,  0.,  0.,  0.,  0.,  0.,  0.],\n",
    "       [ 0.,  0.,  0.,  0.,  1.,  1.,  0.,  0.,  0.,  0.],\n",
    "       [ 0.,  0.,  0.,  0.,  1.,  1.,  0.,  0.,  0.,  0.],\n",
    "       [ 0.,  0.,  0.,  0.,  0.,  0.,  0.,  0.,  0.,  0.],\n",
    "       [ 0.,  0.,  0.,  0.,  0.,  0.,  0.,  0.,  0.,  0.],\n",
    "       [ 0.,  0.,  0.,  0.,  0.,  0.,  0.,  0.,  0.,  0.],\n",
    "       [ 0.,  0.,  0.,  0.,  0.,  0.,  0.,  0.,  0.,  0.]])\n"
   ]
  },
  {
   "cell_type": "code",
   "execution_count": null,
   "metadata": {
    "collapsed": true
   },
   "outputs": [],
   "source": [
    "size_new_im = 5000\n",
    "test_ima = np.zeros((size_new_im,size_new_im))\n",
    "\n",
    "len_orgx, len_orgy = im.shape \n",
    "\n",
    "nim_xcen,nim_ycen = test_ima.shape\n",
    "nim_xcen = int(nim_xcen/2)\n",
    "nim_ycen = int(nim_ycen/2)\n",
    "\n",
    "# First we determine the usable range in the new array\n",
    "#Start pixels\n",
    "\n",
    "if im_cx.value > nim_xcen:\n",
    "    x0_s = 0\n",
    "elif \n",
    "    x0_s = nim_xcen - im_cx.value\n",
    "\n",
    "if im_cy.value > nim_ycen:\n",
    "    y0_s = 0\n",
    "elif \n",
    "    y0_s = nim_ycen - im_cy.value\n",
    "\n",
    "#End pixels\n",
    "\n",
    "if len_orgx - im_cx.value > nim_xcen:\n",
    "    x0_f = size_new_im\n",
    "elif \n",
    "    x0_f = nim_xcen + (im_cx.value + len_orgx)\n",
    "\n",
    "if len_orgy - im_cy.value > nim_ycen:\n",
    "    y0_f = size_new_im\n",
    "elif \n",
    "    y0_f = nim_ycen + (im_cy.value + len_orgy)\n",
    "\n",
    "\n",
    "#print(im_cx,im_cy)\n",
    "#print(len_orgx, len_orgy)\n",
    "#print(nim_xcen,nim_ycen)\n",
    "\n",
    "#for i in range(len_orgy):\n",
    "#    for j in range(len_orgx):\n",
    "#        print(i,j,im[j,i])\n",
    "#        new_j = j + int(nim_ycen - im_cy.value)\n",
    "#        new_i = i + int(nim_xcen - im_cx.value)\n",
    "#        if new_j or new_i >= size_new_im:\n",
    "#            print(\"oversize\")\n",
    "#        else:\n",
    "#            test_ima[new_j,new_i] = im[j,i]\n",
    "#\n",
    "#plt.imshow(test_ima)\n"
   ]
  },
  {
   "cell_type": "markdown",
   "metadata": {},
   "source": [
    "# Getting information about the Sun"
   ]
  },
  {
   "cell_type": "markdown",
   "metadata": {},
   "source": [
    "Let's now get the distance between the Earth and the Sun at the time the photo was taken"
   ]
  },
  {
   "cell_type": "code",
   "execution_count": null,
   "metadata": {
    "collapsed": true
   },
   "outputs": [],
   "source": [
    "dsun = sunpy.coordinates.get_sunearth_distance(time.isoformat())\n",
    "print(dsun)"
   ]
  },
  {
   "cell_type": "markdown",
   "metadata": {},
   "source": [
    "The size of the Sun in the sky is then"
   ]
  },
  {
   "cell_type": "code",
   "execution_count": null,
   "metadata": {
    "collapsed": true
   },
   "outputs": [],
   "source": [
    "rsun_obs = np.arctan(sunpy.sun.constants.radius / dsun).to('arcsec')\n",
    "print(rsun_obs)"
   ]
  },
  {
   "cell_type": "markdown",
   "metadata": {},
   "source": [
    "The image plate scale is then"
   ]
  },
  {
   "cell_type": "code",
   "execution_count": null,
   "metadata": {
    "collapsed": true
   },
   "outputs": [],
   "source": [
    "#print(im_radius+5 * u.pix)\n",
    "plate_scale = rsun_obs / im_radius\n",
    "print(plate_scale)"
   ]
  },
  {
   "cell_type": "markdown",
   "metadata": {},
   "source": [
    "We also need the solar rotation angle"
   ]
  },
  {
   "cell_type": "code",
   "execution_count": null,
   "metadata": {
    "collapsed": true
   },
   "outputs": [],
   "source": [
    "loc = EarthLocation(lat=gps[0], lon=gps[1])\n",
    "fudge_angle = 0.0 * u.deg # update this in case your camera was not perfectly level.\n",
    "solar_rotation_angle = sunpy.coordinates.get_sun_orientation(loc, time) + fudge_angle"
   ]
  },
  {
   "cell_type": "code",
   "execution_count": null,
   "metadata": {
    "collapsed": true
   },
   "outputs": [],
   "source": [
    "hgln_obs = 0 * u.deg # sunpy.coordinates.get_sun_L0(time)\n",
    "hglt_obs = sunpy.coordinates.get_sun_B0(time)\n",
    "print(\"{0} {1}\".format(hglt_obs, hgln_obs))"
   ]
  },
  {
   "cell_type": "markdown",
   "metadata": {},
   "source": [
    "# Define your WCS object and header"
   ]
  },
  {
   "cell_type": "code",
   "execution_count": null,
   "metadata": {
    "collapsed": true
   },
   "outputs": [],
   "source": [
    "w = astropy.wcs.WCS(naxis=2)\n",
    "w.wcs.crpix = [im_cy[0].value, im_cx[0].value]\n",
    "w.wcs.cdelt = np.ones(2) * plate_scale.to('arcsec/pix').value\n",
    "w.wcs.crval = [0, 0]\n",
    "w.wcs.ctype = ['TAN', 'TAN']\n",
    "w.wcs.cunit = ['arcsec', 'arcsec']\n",
    "w.wcs.dateobs = time.isoformat()"
   ]
  },
  {
   "cell_type": "markdown",
   "metadata": {},
   "source": [
    "Using this object we can now create the sunpy map header"
   ]
  },
  {
   "cell_type": "code",
   "execution_count": null,
   "metadata": {
    "collapsed": true
   },
   "outputs": [],
   "source": [
    "header = dict(w.to_header())\n",
    "header.update({'CROTA2': solar_rotation_angle.to('deg').value})\n",
    "header.update({'DSUN_OBS': dsun.to('m').value})\n",
    "header.update({'HGLN_OBS': hgln_obs.to('deg').value})\n",
    "header.update({'HGLT_OBS': hglt_obs.to('deg').value})\n",
    "header.update({'CTYPE1': 'HPLN-TAN'})\n",
    "header.update({'CTYPE2': 'HPLT-TAN'})\n",
    "header.update({'RSUN': dsun.to('m').value})\n",
    "header.update({'RSUN_OBS': np.arctan(sunpy.sun.constants.radius / dsun).to('arcsec').value})"
   ]
  },
  {
   "cell_type": "markdown",
   "metadata": {},
   "source": [
    "Now add metadata about the photograph."
   ]
  },
  {
   "cell_type": "code",
   "execution_count": null,
   "metadata": {
    "collapsed": true
   },
   "outputs": [],
   "source": [
    "header.update({'AUTHOR': author_str})\n",
    "header.update({'EXPTIME': exposure_time.to('s').value})\n",
    "header.update({'TELESCOP': camera_model_str})\n",
    "header.update({'INSTRUME': camera_model_str})\n",
    "header.update({'DETECTOR': camera_model_str})"
   ]
  },
  {
   "cell_type": "code",
   "execution_count": null,
   "metadata": {
    "collapsed": true
   },
   "outputs": [],
   "source": [
    "header"
   ]
  },
  {
   "cell_type": "markdown",
   "metadata": {},
   "source": [
    "# Creating SunPy Map"
   ]
  },
  {
   "cell_type": "code",
   "execution_count": null,
   "metadata": {
    "collapsed": true
   },
   "outputs": [],
   "source": [
    "m = sunpy.map.Map((im, header))\n",
    "m"
   ]
  },
  {
   "cell_type": "code",
   "execution_count": null,
   "metadata": {
    "collapsed": true
   },
   "outputs": [],
   "source": [
    "fig = plt.figure(figsize=(10,10))\n",
    "ax = plt.subplot(projection=m)\n",
    "m.plot(axes=ax)\n",
    "m.draw_grid(axes=ax)\n",
    "m.draw_limb(axes=ax)\n",
    "plt.show()"
   ]
  },
  {
   "cell_type": "markdown",
   "metadata": {},
   "source": [
    "# Overplot the location of Regulus"
   ]
  },
  {
   "cell_type": "code",
   "execution_count": null,
   "metadata": {
    "collapsed": true
   },
   "outputs": [],
   "source": [
    "regulus = SkyCoord(ra='10h08m22.311s', dec='11d58m01.95s', distance=79.3 * u.lightyear, frame='icrs').transform_to(m.coordinate_frame)"
   ]
  },
  {
   "cell_type": "code",
   "execution_count": null,
   "metadata": {
    "collapsed": true
   },
   "outputs": [],
   "source": [
    "regulus"
   ]
  },
  {
   "cell_type": "code",
   "execution_count": null,
   "metadata": {
    "collapsed": true
   },
   "outputs": [],
   "source": [
    "fig = plt.figure(figsize=(9,9))\n",
    "ax = plt.subplot(projection=m)\n",
    "m.plot(axes=ax)\n",
    "ax.plot_coord(regulus, '*w', label='Regulus')\n",
    "m.draw_grid(axes=ax)\n",
    "m.draw_limb(axes=ax)\n",
    "plt.legend()\n",
    "plt.show()"
   ]
  },
  {
   "cell_type": "markdown",
   "metadata": {},
   "source": [
    "We can see that the predicted location of regulus does not match which tells us that there a slight error in the angle. This is likely because the camera was not level with the horizon. Therefore we adjust to get it right."
   ]
  },
  {
   "cell_type": "code",
   "execution_count": null,
   "metadata": {
    "collapsed": true
   },
   "outputs": [],
   "source": [
    "#fudge_angle = 2.5 * u.deg # JCMO DSLR images.\n",
    "fudge_angle = -25.0 * u.deg # JCMO DSLR images.\n",
    "solar_rotation_angle = sunpy.coordinates.get_sun_orientation(loc, time) + fudge_angle\n",
    "header.update({'CROTA2': solar_rotation_angle.to('deg').value})\n",
    "m = sunpy.map.Map((im, header))"
   ]
  },
  {
   "cell_type": "code",
   "execution_count": null,
   "metadata": {
    "collapsed": true
   },
   "outputs": [],
   "source": [
    "fig = plt.figure(figsize=(9,9))\n",
    "ax = plt.subplot(projection=m)\n",
    "m.plot(axes=ax)\n",
    "ax.plot_coord(regulus, 'o', markeredgewidth=0.5, markeredgecolor='w', \n",
    "              markerfacecolor='None', label='Regulus')\n",
    "m.draw_grid(axes=ax)\n",
    "m.draw_limb(axes=ax)\n",
    "plt.legend()\n",
    "#plt.savefig('Helioprojective_Braxton.png',format='png')\n",
    "plt.show()"
   ]
  },
  {
   "cell_type": "markdown",
   "metadata": {},
   "source": [
    "More tweaking could be done here to get thing right. We will leave that as an exercise for the reader!"
   ]
  },
  {
   "cell_type": "markdown",
   "metadata": {},
   "source": [
    "# Plot an SDO AIA Image of the Sun on your photo"
   ]
  },
  {
   "cell_type": "markdown",
   "metadata": {},
   "source": [
    "First we need to download the images"
   ]
  },
  {
   "cell_type": "code",
   "execution_count": null,
   "metadata": {
    "collapsed": true
   },
   "outputs": [],
   "source": [
    "from sunpy.net import Fido, attrs as a\n",
    "# Replace the time below with the time in UT of the eclipse\n",
    "#t = a.Time('2017-08-21 17:27:13', \"2017-08-21 17:45:13\")\n",
    "t = a.Time('2017-08-21 16:50:13', \"2017-08-21 16:55:13\")\n",
    "aia_result = Fido.search(t, a.Instrument('AIA'), a.Wavelength(171*u.Angstrom))\n",
    "aia_result"
   ]
  },
  {
   "cell_type": "code",
   "execution_count": null,
   "metadata": {
    "collapsed": true
   },
   "outputs": [],
   "source": [
    "files = Fido.fetch(aia_result[0,0])"
   ]
  },
  {
   "cell_type": "code",
   "execution_count": null,
   "metadata": {
    "collapsed": true
   },
   "outputs": [],
   "source": [
    "files"
   ]
  },
  {
   "cell_type": "code",
   "execution_count": null,
   "metadata": {
    "collapsed": true
   },
   "outputs": [],
   "source": [
    "aia_map = sunpy.map.Map(files[0])\n",
    "aia_map.plot()"
   ]
  },
  {
   "cell_type": "markdown",
   "metadata": {},
   "source": [
    "To overplot the images we must align them, this can be done with `rotate`."
   ]
  },
  {
   "cell_type": "code",
   "execution_count": null,
   "metadata": {
    "collapsed": true
   },
   "outputs": [],
   "source": [
    "am2 = aia_map.rotate(rmatrix=np.linalg.inv(m.rotation_matrix),\n",
    "                     recenter=True, order=3, scale=(aia_map.scale[0]/m.scale[0]))"
   ]
  },
  {
   "cell_type": "markdown",
   "metadata": {},
   "source": [
    "We then must calculate the extent of the AIA image in terms of pixels in the eclipse image."
   ]
  },
  {
   "cell_type": "code",
   "execution_count": null,
   "metadata": {
    "collapsed": true
   },
   "outputs": [],
   "source": [
    "xmin, ymin = (u.Quantity(m.reference_pixel) - u.Quantity(am2.reference_pixel)).to_value(u.pix)"
   ]
  },
  {
   "cell_type": "code",
   "execution_count": null,
   "metadata": {
    "collapsed": true
   },
   "outputs": [],
   "source": [
    "xmax = am2.data.shape[1] + xmin\n",
    "ymax = am2.data.shape[0] + ymin"
   ]
  },
  {
   "cell_type": "code",
   "execution_count": null,
   "metadata": {
    "collapsed": true
   },
   "outputs": [],
   "source": [
    "extent = (xmin, xmax, ymin, ymax)"
   ]
  },
  {
   "cell_type": "markdown",
   "metadata": {},
   "source": [
    "Finally we mask out the pixels with a low value in the eclipse image (to make the disk transparent)."
   ]
  },
  {
   "cell_type": "code",
   "execution_count": null,
   "metadata": {
    "collapsed": true
   },
   "outputs": [],
   "source": [
    "#m.data[m.data < 30] = np.nan"
   ]
  },
  {
   "cell_type": "code",
   "execution_count": null,
   "metadata": {
    "collapsed": true
   },
   "outputs": [],
   "source": [
    "fig = plt.figure(figsize=(10,15))\n",
    "ax = plt.subplot(projection=m)\n",
    "\n",
    "# Set the axes background to black.\n",
    "ax.set_facecolor('k')\n",
    "\n",
    "# Plot the AIA image.\n",
    "am2.plot(extent=extent)\n",
    "# Plot the eclipse image\n",
    "m.plot()\n",
    "\n",
    "# Draw heliographic and helioprojective grids\n",
    "m.draw_grid()\n",
    "ax.coords.grid(color='white', alpha=1, linestyle='dotted',linewidth=2)"
   ]
  },
  {
   "cell_type": "code",
   "execution_count": null,
   "metadata": {
    "collapsed": true
   },
   "outputs": [],
   "source": [
    "\n"
   ]
  },
  {
   "cell_type": "code",
   "execution_count": null,
   "metadata": {
    "collapsed": true
   },
   "outputs": [],
   "source": []
  },
  {
   "cell_type": "code",
   "execution_count": null,
   "metadata": {
    "collapsed": true
   },
   "outputs": [],
   "source": []
  }
 ],
 "metadata": {
  "kernelspec": {
   "display_name": "Python 3",
   "language": "python",
   "name": "python3"
  },
  "language_info": {
   "codemirror_mode": {
    "name": "ipython",
    "version": 3
   },
   "file_extension": ".py",
   "mimetype": "text/x-python",
   "name": "python",
   "nbconvert_exporter": "python",
   "pygments_lexer": "ipython3",
   "version": "3.6.1"
  }
 },
 "nbformat": 4,
 "nbformat_minor": 2
}
